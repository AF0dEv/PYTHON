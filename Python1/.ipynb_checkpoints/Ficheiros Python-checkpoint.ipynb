{
 "cells": [
  {
   "cell_type": "code",
   "execution_count": 1,
   "id": "ad246717",
   "metadata": {},
   "outputs": [],
   "source": [
    "# Ficheiros em Python"
   ]
  },
  {
   "cell_type": "code",
   "execution_count": null,
   "id": "e8248d41",
   "metadata": {},
   "outputs": [],
   "source": [
    "'''\n",
    "r - aberto para leitura\n",
    "w - aberto para gravação\n",
    "x - aberto para criação\n",
    "a - aberto para escrita\n",
    "b - modo binário\n",
    "t - modo texto\n",
    "+ - aberto para atualização (leitura e escrita) \"append\"\n",
    "'''"
   ]
  },
  {
   "cell_type": "code",
   "execution_count": 16,
   "id": "1c342a16",
   "metadata": {},
   "outputs": [
    {
     "name": "stdout",
     "output_type": "stream",
     "text": [
      "####################\n",
      "A ler Linhas: \n",
      "Linha 1\n",
      "Linha 2\n",
      "Linha 3\n",
      "\n",
      "####################\n",
      "Linha 1\n",
      "Linha 2\n",
      "Linha 3\n",
      "####################\n",
      "['Linha 1\\n', 'Linha 2\\n', 'Linha 3\\n']\n",
      "####################\n",
      "Linha 1\n",
      "Linha 2\n",
      "Linha 3\n",
      "####################\n"
     ]
    }
   ],
   "source": [
    "file = open('abc.txt', 'w+')\n",
    "file.write('Linha 1\\n')\n",
    "file.write('Linha 2\\n')\n",
    "file.write('Linha 3\\n')\n",
    "\n",
    "print('####################')\n",
    "file.seek(0, 0) # 1º zero = posição na linha / 2º zero = linha\n",
    "print('A ler Linhas: ')\n",
    "print(file.read()) # file.readLine() lê de linha a linha / file.readLines() devolve lista\n",
    "print('####################')\n",
    "\n",
    "file.seek(0)\n",
    "print(file.readline(), end = '')\n",
    "print(file.readline(), end = '')\n",
    "print(file.readline(), end = '') # end -> fazer a quebra da quebra de linha do print\n",
    "print('####################')\n",
    "\n",
    "file.seek(0)\n",
    "print(file.readlines())\n",
    "print('####################')\n",
    "\n",
    "\n",
    "file.seek(0)\n",
    "for linha in file.readlines():\n",
    "    print(linha, end='')\n",
    "print('####################')\n",
    "    \n",
    "file.close()"
   ]
  },
  {
   "cell_type": "code",
   "execution_count": 17,
   "id": "8b3ec275",
   "metadata": {},
   "outputs": [
    {
     "name": "stdout",
     "output_type": "stream",
     "text": [
      "Linha\n"
     ]
    }
   ],
   "source": [
    "try:\n",
    "    file = open('abcd.txt', 'w+')\n",
    "    file.write('Linha')\n",
    "    file.seek(0)\n",
    "    print(file.read())\n",
    "finally:\n",
    "    file.close()"
   ]
  },
  {
   "cell_type": "code",
   "execution_count": 24,
   "id": "0f02aa30",
   "metadata": {},
   "outputs": [
    {
     "name": "stdout",
     "output_type": "stream",
     "text": [
      "Linha 1\n",
      "Linha 2\n",
      "Linha 3\n",
      "\n"
     ]
    }
   ],
   "source": [
    "with open('abcde.txt', 'w+') as file: # with -> gerenceador de contexto (fecha ficheiro automaticamente)\n",
    "    file.write('Linha 1\\n')\n",
    "    file.write('Linha 2\\n')\n",
    "    file.write('Linha 3\\n')\n",
    "    \n",
    "    file.seek(0)\n",
    "    print(file.read())"
   ]
  },
  {
   "cell_type": "code",
   "execution_count": 25,
   "id": "87f60a98",
   "metadata": {},
   "outputs": [
    {
     "name": "stdout",
     "output_type": "stream",
     "text": [
      "Linha 1\n",
      "Linha 2\n",
      "Linha 3\n",
      "\n"
     ]
    }
   ],
   "source": [
    "with open('abcde.txt', 'r') as file:\n",
    "    print(file.read())"
   ]
  },
  {
   "cell_type": "code",
   "execution_count": 26,
   "id": "44a0bf26",
   "metadata": {},
   "outputs": [
    {
     "name": "stdout",
     "output_type": "stream",
     "text": [
      "Linha 1\n",
      "Linha 2\n",
      "Linha 3\n",
      "Outra linha\n"
     ]
    }
   ],
   "source": [
    "with open('abcde.txt', 'a+') as file:\n",
    "    file.write('Outra linha')\n",
    "    file.seek(0)\n",
    "    print(file.read())"
   ]
  },
  {
   "cell_type": "code",
   "execution_count": 27,
   "id": "235d55ac",
   "metadata": {},
   "outputs": [],
   "source": [
    "import os\n",
    "os.remove('abcde.txt')"
   ]
  },
  {
   "cell_type": "code",
   "execution_count": null,
   "id": "989ee96d",
   "metadata": {},
   "outputs": [],
   "source": []
  }
 ],
 "metadata": {
  "kernelspec": {
   "display_name": "Python 3 (ipykernel)",
   "language": "python",
   "name": "python3"
  },
  "language_info": {
   "codemirror_mode": {
    "name": "ipython",
    "version": 3
   },
   "file_extension": ".py",
   "mimetype": "text/x-python",
   "name": "python",
   "nbconvert_exporter": "python",
   "pygments_lexer": "ipython3",
   "version": "3.11.5"
  }
 },
 "nbformat": 4,
 "nbformat_minor": 5
}
