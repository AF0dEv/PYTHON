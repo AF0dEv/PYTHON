{
 "cells": [
  {
   "cell_type": "code",
   "execution_count": null,
   "id": "8a7326ff",
   "metadata": {},
   "outputs": [],
   "source": [
    "# As Funções têm não só o Objetivo de Ajudar a Melhorar o Código\n",
    "# Ajudam também a Evitar Repetições no Código(Que seja Realizado mais de uma vez)\n",
    "# Sem nos Apercebermos já Utilizamos Várias Funções, apenas não foram criadas por nós "
   ]
  },
  {
   "cell_type": "code",
   "execution_count": null,
   "id": "656520d7",
   "metadata": {},
   "outputs": [],
   "source": [
    "print('Olá!')\n",
    "input('um nome')\n",
    "len('Marcos')\n",
    "\n",
    "# Diferença é que estas Funções já fazem parte do próprio Python\n",
    "# Vamos então criar as nossas próprias Funções :)"
   ]
  },
  {
   "cell_type": "code",
   "execution_count": 2,
   "id": "ccf8ad2d",
   "metadata": {},
   "outputs": [
    {
     "name": "stdout",
     "output_type": "stream",
     "text": [
      "=========================\n",
      "Autor: Afonso Figueiredo\n",
      "versão: 1.03\n",
      "=========================\n"
     ]
    }
   ],
   "source": [
    "print('=' * 25)\n",
    "print('Autor: Afonso Figueiredo')\n",
    "print('versão: 1.03')\n",
    "print('=' * 25)"
   ]
  },
  {
   "cell_type": "code",
   "execution_count": 3,
   "id": "3c227e9f",
   "metadata": {},
   "outputs": [],
   "source": [
    "def about():\n",
    "    print('=' * 25)\n",
    "    print('Autor: Afonso Figueiredo')\n",
    "    print('versão: 1.03')\n",
    "    print('=' * 25)\n",
    "    \n",
    "    \n",
    "# BOAS PRÁTICAS : DEIXAR DUAS LINHAS EM BRANCO APÓS DECLARAÇÃO DE FUNÇÃO    "
   ]
  },
  {
   "cell_type": "code",
   "execution_count": 4,
   "id": "635a9dbd",
   "metadata": {},
   "outputs": [
    {
     "name": "stdout",
     "output_type": "stream",
     "text": [
      "inicio\n",
      "=========================\n",
      "Autor: Afonso Figueiredo\n",
      "versão: 1.03\n",
      "=========================\n",
      "fim\n"
     ]
    }
   ],
   "source": [
    "print('inicio')\n",
    "about()\n",
    "print('fim')"
   ]
  },
  {
   "cell_type": "code",
   "execution_count": 6,
   "id": "e44811ea",
   "metadata": {},
   "outputs": [
    {
     "name": "stdout",
     "output_type": "stream",
     "text": [
      "inicio\n"
     ]
    },
    {
     "ename": "TypeError",
     "evalue": "about() takes 0 positional arguments but 1 was given",
     "output_type": "error",
     "traceback": [
      "\u001b[0;31m---------------------------------------------------------------------------\u001b[0m",
      "\u001b[0;31mTypeError\u001b[0m                                 Traceback (most recent call last)",
      "Cell \u001b[0;32mIn[6], line 2\u001b[0m\n\u001b[1;32m      1\u001b[0m \u001b[38;5;28mprint\u001b[39m(\u001b[38;5;124m'\u001b[39m\u001b[38;5;124minicio\u001b[39m\u001b[38;5;124m'\u001b[39m)\n\u001b[0;32m----> 2\u001b[0m about(\u001b[38;5;241m1.07\u001b[39m)\n",
      "\u001b[0;31mTypeError\u001b[0m: about() takes 0 positional arguments but 1 was given"
     ]
    }
   ],
   "source": [
    "print('inicio')\n",
    "about(1.07)"
   ]
  },
  {
   "cell_type": "code",
   "execution_count": 8,
   "id": "c8378f94",
   "metadata": {},
   "outputs": [],
   "source": [
    "def about(versao = 1.03):\n",
    "    print('=' * 25)\n",
    "    print('Autor: Afonso Figueiredo')\n",
    "    print('versão: ',versao)\n",
    "    print('=' * 25)\n",
    "    \n",
    "  "
   ]
  },
  {
   "cell_type": "code",
   "execution_count": null,
   "id": "50fb5d29",
   "metadata": {},
   "outputs": [],
   "source": [
    "print('inicio')\n",
    "about(1.07)\n",
    "print('fim')"
   ]
  },
  {
   "cell_type": "code",
   "execution_count": 10,
   "id": "65568d0c",
   "metadata": {},
   "outputs": [
    {
     "name": "stdout",
     "output_type": "stream",
     "text": [
      "=========================\n",
      "Autor: Afonso Figueiredo\n",
      "versão:  1.03\n",
      "=========================\n"
     ]
    }
   ],
   "source": [
    "about()"
   ]
  },
  {
   "cell_type": "code",
   "execution_count": null,
   "id": "1a6a5a2d",
   "metadata": {},
   "outputs": [],
   "source": [
    "def cubo(num):\n",
    "   return num ** 3\n",
    "\n",
    "numero = cubo(2)\n",
    "print(numero)\n"
   ]
  },
  {
   "cell_type": "code",
   "execution_count": null,
   "id": "e62afd51",
   "metadata": {},
   "outputs": [],
   "source": [
    "# Desafio\n",
    "# Faça uma função que receba 2 numeros e que retorne o maior dos dois.\n",
    "\n",
    "def maior(n1, n2):\n",
    "    if n1 > n2:\n",
    "        return n1\n",
    "    else:\n",
    "        return n2\n",
    "\n",
    "maior(7, 4)"
   ]
  },
  {
   "cell_type": "code",
   "execution_count": null,
   "id": "3e1916e6-231b-45de-9ded-7fcdd44b7d85",
   "metadata": {},
   "outputs": [],
   "source": [
    "def maior(n1, n2):\n",
    "    return n1 if n1 > n2 else n2\n",
    "    \n",
    "maior(7, 4)"
   ]
  }
 ],
 "metadata": {
  "kernelspec": {
   "display_name": "Python 3 (ipykernel)",
   "language": "python",
   "name": "python3"
  },
  "language_info": {
   "codemirror_mode": {
    "name": "ipython",
    "version": 3
   },
   "file_extension": ".py",
   "mimetype": "text/x-python",
   "name": "python",
   "nbconvert_exporter": "python",
   "pygments_lexer": "ipython3",
   "version": "3.11.5"
  }
 },
 "nbformat": 4,
 "nbformat_minor": 5
}
