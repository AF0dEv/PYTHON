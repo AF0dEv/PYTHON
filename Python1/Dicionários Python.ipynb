{
 "cells": [
  {
   "cell_type": "code",
   "execution_count": null,
   "id": "e16d45f7",
   "metadata": {},
   "outputs": [],
   "source": [
    "# Para criar um dicionário utilizamos {}\n",
    "# Contém uma Chave que tanto pode ser uma String como um Inteiro\n",
    "# Seguido de (:) e conteúdo dessa Chave"
   ]
  },
  {
   "cell_type": "code",
   "execution_count": 2,
   "id": "d657c6b7",
   "metadata": {},
   "outputs": [],
   "source": [
    "aluno = { \n",
    "    'nome' : 'Joana',\n",
    "    'idade' : 17,\n",
    "    'inscrito' : True\n",
    "}"
   ]
  },
  {
   "cell_type": "code",
   "execution_count": 3,
   "id": "654f5a24",
   "metadata": {},
   "outputs": [
    {
     "name": "stdout",
     "output_type": "stream",
     "text": [
      "Joana\n"
     ]
    }
   ],
   "source": [
    "print(aluno['nome'])"
   ]
  },
  {
   "cell_type": "code",
   "execution_count": 4,
   "id": "f26a4ac1",
   "metadata": {},
   "outputs": [
    {
     "name": "stdout",
     "output_type": "stream",
     "text": [
      "17\n"
     ]
    }
   ],
   "source": [
    "print(aluno['idade'])"
   ]
  },
  {
   "cell_type": "code",
   "execution_count": 5,
   "id": "dd79e218",
   "metadata": {},
   "outputs": [
    {
     "name": "stdout",
     "output_type": "stream",
     "text": [
      "True\n"
     ]
    }
   ],
   "source": [
    "print(aluno['inscrito'])"
   ]
  },
  {
   "cell_type": "code",
   "execution_count": 6,
   "id": "d4bf0571",
   "metadata": {},
   "outputs": [
    {
     "name": "stdout",
     "output_type": "stream",
     "text": [
      "{'nome': 'Joana', 'idade': 17, 'inscrito': True}\n"
     ]
    }
   ],
   "source": [
    "print(aluno)"
   ]
  },
  {
   "cell_type": "code",
   "execution_count": 7,
   "id": "a45de2c2",
   "metadata": {},
   "outputs": [
    {
     "name": "stdout",
     "output_type": "stream",
     "text": [
      "Joana\n"
     ]
    }
   ],
   "source": [
    "print(aluno.get('nome'))"
   ]
  },
  {
   "cell_type": "code",
   "execution_count": 8,
   "id": "057123df",
   "metadata": {},
   "outputs": [
    {
     "name": "stdout",
     "output_type": "stream",
     "text": [
      "None\n"
     ]
    }
   ],
   "source": [
    "print(aluno.get('ano'))"
   ]
  },
  {
   "cell_type": "code",
   "execution_count": 9,
   "id": "43632880",
   "metadata": {},
   "outputs": [],
   "source": [
    "aluno['ano'] = 10"
   ]
  },
  {
   "cell_type": "code",
   "execution_count": 10,
   "id": "0f632224",
   "metadata": {},
   "outputs": [
    {
     "name": "stdout",
     "output_type": "stream",
     "text": [
      "10\n"
     ]
    }
   ],
   "source": [
    "print(aluno.get('ano'))"
   ]
  },
  {
   "cell_type": "code",
   "execution_count": 11,
   "id": "0812a174",
   "metadata": {},
   "outputs": [
    {
     "name": "stdout",
     "output_type": "stream",
     "text": [
      "{'nome': 'Joana', 'idade': 17, 'inscrito': True, 'ano': 10}\n"
     ]
    }
   ],
   "source": [
    "print(aluno)"
   ]
  },
  {
   "cell_type": "code",
   "execution_count": 12,
   "id": "2c32106f",
   "metadata": {},
   "outputs": [
    {
     "name": "stdout",
     "output_type": "stream",
     "text": [
      "10\n"
     ]
    }
   ],
   "source": [
    "print(aluno.get('ano', 9)) # se ano existir da o valor nessa variavel, senão apresenta o 9"
   ]
  },
  {
   "cell_type": "code",
   "execution_count": null,
   "id": "a1148588",
   "metadata": {},
   "outputs": [],
   "source": [
    "# Pedir ao Utilizador para Introduzir uma Sequência de Números, por exemplo 3421\n",
    "# Queria converter esta Sequência para texto\n",
    "# Por exemplo três quatro dois um"
   ]
  },
  {
   "cell_type": "code",
   "execution_count": 30,
   "id": "8d9e955c",
   "metadata": {},
   "outputs": [],
   "source": [
    "num = {\n",
    "    '0' : 'zero',\n",
    "    '1' : 'um',\n",
    "    '2' : 'dois',\n",
    "    '3' : 'três',\n",
    "    '4' : 'quatro',\n",
    "    '5' : 'cinco',\n",
    "    '6' : 'seis',\n",
    "    '7' : 'sete',\n",
    "    '8' : 'oito',\n",
    "    '9' : 'nove'\n",
    "}"
   ]
  },
  {
   "cell_type": "code",
   "execution_count": 31,
   "id": "d5b5751b",
   "metadata": {},
   "outputs": [
    {
     "name": "stdout",
     "output_type": "stream",
     "text": [
      "Por Favor, introduza um Número: 123456\n"
     ]
    }
   ],
   "source": [
    "n = input('Por Favor, introduza um Número: ') #Este número entra como String"
   ]
  },
  {
   "cell_type": "code",
   "execution_count": 32,
   "id": "c93836ad",
   "metadata": {},
   "outputs": [
    {
     "name": "stdout",
     "output_type": "stream",
     "text": [
      "um\n",
      "dois\n",
      "três\n",
      "quatro\n",
      "cinco\n",
      "seis\n"
     ]
    }
   ],
   "source": [
    "for ns in n:\n",
    "    print(num[ns])"
   ]
  },
  {
   "cell_type": "code",
   "execution_count": 33,
   "id": "61754172",
   "metadata": {},
   "outputs": [
    {
     "name": "stdout",
     "output_type": "stream",
     "text": [
      "um dois três quatro cinco seis \n"
     ]
    }
   ],
   "source": [
    "output = ''\n",
    "for digito in n:\n",
    "    output = output + num.get(digito, '!') + ' '\n",
    "\n",
    "print(output)"
   ]
  },
  {
   "cell_type": "code",
   "execution_count": null,
   "id": "663baf48",
   "metadata": {},
   "outputs": [],
   "source": []
  }
 ],
 "metadata": {
  "kernelspec": {
   "display_name": "Python 3.9.6 ('venv': venv)",
   "language": "python",
   "name": "python3"
  },
  "language_info": {
   "codemirror_mode": {
    "name": "ipython",
    "version": 3
   },
   "file_extension": ".py",
   "mimetype": "text/x-python",
   "name": "python",
   "nbconvert_exporter": "python",
   "pygments_lexer": "ipython3",
   "version": "3.9.6"
  },
  "vscode": {
   "interpreter": {
    "hash": "691b54673c5b2be4088492b6cabb8b8f4192a9787a4abab5de0b37995dcee8cd"
   }
  }
 },
 "nbformat": 4,
 "nbformat_minor": 5
}
