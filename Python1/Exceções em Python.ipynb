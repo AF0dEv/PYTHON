{
 "cells": [
  {
   "cell_type": "code",
   "execution_count": null,
   "id": "3b4a5143",
   "metadata": {},
   "outputs": [],
   "source": [
    "# Exceções são uma Forma que temos na Programação para Lidar com Erros !"
   ]
  },
  {
   "cell_type": "code",
   "execution_count": 2,
   "id": "96cde742",
   "metadata": {},
   "outputs": [
    {
     "name": "stdout",
     "output_type": "stream",
     "text": [
      "idade: a\n"
     ]
    },
    {
     "ename": "ValueError",
     "evalue": "invalid literal for int() with base 10: 'a'",
     "output_type": "error",
     "traceback": [
      "\u001b[0;31m---------------------------------------------------------------------------\u001b[0m",
      "\u001b[0;31mValueError\u001b[0m                                Traceback (most recent call last)",
      "Cell \u001b[0;32mIn[2], line 1\u001b[0m\n\u001b[0;32m----> 1\u001b[0m idade \u001b[38;5;241m=\u001b[39m \u001b[38;5;28mint\u001b[39m(\u001b[38;5;28minput\u001b[39m(\u001b[38;5;124m'\u001b[39m\u001b[38;5;124midade: \u001b[39m\u001b[38;5;124m'\u001b[39m))\n",
      "\u001b[0;31mValueError\u001b[0m: invalid literal for int() with base 10: 'a'"
     ]
    }
   ],
   "source": [
    "idade = int(input('idade: '))"
   ]
  },
  {
   "cell_type": "code",
   "execution_count": 4,
   "id": "b1077c70",
   "metadata": {},
   "outputs": [
    {
     "name": "stdout",
     "output_type": "stream",
     "text": [
      "idade: g\n",
      "A idade introduzida não é Válida!\n",
      "fim.\n"
     ]
    }
   ],
   "source": [
    "try:\n",
    "    idade = int(input('idade: '))\n",
    "    print(idade)\n",
    "except ValueError:\n",
    "    print('A idade introduzida não é Válida!')\n",
    "\n",
    "print('fim.')"
   ]
  },
  {
   "cell_type": "code",
   "execution_count": 12,
   "id": "5682a477",
   "metadata": {},
   "outputs": [
    {
     "name": "stdout",
     "output_type": "stream",
     "text": [
      "idade: 23\n",
      "23\n",
      "69.56521739130434\n",
      "fim.\n"
     ]
    }
   ],
   "source": [
    "try:\n",
    "    idade = int(input('idade: '))\n",
    "    salario = 1600\n",
    "    risco = salario / idade\n",
    "    print(idade)\n",
    "    print(risco)\n",
    "except ValueError:\n",
    "    print('A idade introduzida NÃO é Válida!')\n",
    "except ZeroDivisionError:\n",
    "    print('A idade NÃO pode ser ZERO!')\n",
    "\n",
    "print('fim.')"
   ]
  },
  {
   "cell_type": "code",
   "execution_count": null,
   "id": "d6480b37",
   "metadata": {},
   "outputs": [],
   "source": [
    "# Desafio"
   ]
  },
  {
   "cell_type": "code",
   "execution_count": null,
   "id": "3f601d52",
   "metadata": {},
   "outputs": [],
   "source": [
    "# Pedir ao Utilizador para Introduzir o Preço de um Produto e a respetiva percentagem \n",
    "# de Desconto\n",
    "# O Programa deve Calcular e Mostrar o Valor a Pagar após o Desconto.\n",
    "# Caso a Informação não seja Válida, o Programa deve indicar o Erro "
   ]
  },
  {
   "cell_type": "code",
   "execution_count": 32,
   "id": "a3ad1d3a",
   "metadata": {},
   "outputs": [
    {
     "name": "stdout",
     "output_type": "stream",
     "text": [
      "Introduza o preço do sei produto: 65.99\n",
      "Introduza a Percentagem de Desconto aplicado ao seu Produto: 25\n",
      "49.49249999999999\n"
     ]
    }
   ],
   "source": [
    "total = 0.0\n",
    "try:\n",
    "    preco = float(input('Introduza o preço do sei produto: '))\n",
    "    desconto = int(input('Introduza a Percentagem de Desconto aplicado ao seu Produto: '))\n",
    "    total = preco - preco*(desconto/100)\n",
    "except ValueError:\n",
    "    print('O valor introduzido NÃO é Válido!')\n",
    "except ZeroDivisionError:\n",
    "    print('NÃO pode Dividir por ZERO!')\n",
    "finally:\n",
    "    print(total)"
   ]
  },
  {
   "cell_type": "code",
   "execution_count": null,
   "id": "3d5801bd",
   "metadata": {},
   "outputs": [],
   "source": []
  }
 ],
 "metadata": {
  "kernelspec": {
   "display_name": "Python 3 (ipykernel)",
   "language": "python",
   "name": "python3"
  },
  "language_info": {
   "codemirror_mode": {
    "name": "ipython",
    "version": 3
   },
   "file_extension": ".py",
   "mimetype": "text/x-python",
   "name": "python",
   "nbconvert_exporter": "python",
   "pygments_lexer": "ipython3",
   "version": "3.11.5"
  }
 },
 "nbformat": 4,
 "nbformat_minor": 5
}
